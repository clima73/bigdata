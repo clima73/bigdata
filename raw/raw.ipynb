{
 "cells": [
  {
   "cell_type": "markdown",
   "metadata": {},
   "source": [
    "# Fase 2 - Dados Otimizados (Raw)"
   ]
  },
  {
   "cell_type": "markdown",
   "metadata": {},
   "source": [
    "* Importação das bibliotecas"
   ]
  },
  {
   "cell_type": "code",
   "execution_count": 1,
   "metadata": {},
   "outputs": [],
   "source": [
    "import os\n",
    "import pyspark\n",
    "from pyspark.sql import SparkSession, SQLContext\n",
    "from pyspark.sql.types import StructType, StructField,StringType, FloatType"
   ]
  },
  {
   "cell_type": "code",
   "execution_count": 2,
   "metadata": {},
   "outputs": [],
   "source": [
    "from pyspark import SparkContext, SparkConf\n",
    "from pyspark.sql.functions import create_map, struct, col, asc\n"
   ]
  },
  {
   "cell_type": "code",
   "execution_count": 4,
   "metadata": {},
   "outputs": [
    {
     "data": {
      "text/plain": [
       "[]"
      ]
     },
     "execution_count": 4,
     "metadata": {},
     "output_type": "execute_result"
    }
   ],
   "source": [
    "LANDED = '../landed/'\n",
    "RAW = '../raw/'\n",
    "os.listdir(RAW+'/parquet/')"
   ]
  },
  {
   "cell_type": "markdown",
   "metadata": {},
   "source": [
    "* Sessão Spark"
   ]
  },
  {
   "cell_type": "code",
   "execution_count": 5,
   "metadata": {},
   "outputs": [
    {
     "data": {
      "text/html": [
       "\n",
       "            <div>\n",
       "                <p><b>SparkSession - in-memory</b></p>\n",
       "                \n",
       "        <div>\n",
       "            <p><b>SparkContext</b></p>\n",
       "\n",
       "            <p><a href=\"http://bae77ddaaa6a:4041\">Spark UI</a></p>\n",
       "\n",
       "            <dl>\n",
       "              <dt>Version</dt>\n",
       "                <dd><code>v2.4.3</code></dd>\n",
       "              <dt>Master</dt>\n",
       "                <dd><code>local[*]</code></dd>\n",
       "              <dt>AppName</dt>\n",
       "                <dd><code>GASTOS PARLAMENTARES</code></dd>\n",
       "            </dl>\n",
       "        </div>\n",
       "        \n",
       "            </div>\n",
       "        "
      ],
      "text/plain": [
       "<pyspark.sql.session.SparkSession at 0x7ff4cd904be0>"
      ]
     },
     "execution_count": 5,
     "metadata": {},
     "output_type": "execute_result"
    }
   ],
   "source": [
    "builder = SparkSession.builder.appName(\"GASTOS PARLAMENTARES\")\n",
    "builder.config(\n",
    "    \"spark.hadoop.mapreduce.fileoutputcommitter.algorithm.version\", \"2\")\n",
    "builder.config(\"spark.speculation\", \"false\")\n",
    "builder.config(\"spark.sql.parquet.compression.codec\", \"gzip\")\n",
    "builder.config(\"spark.debug.maxToStringFields\", \"100\")\n",
    "builder.config(\"spark.driver.memory\", \"1g\")\n",
    "builder.config(\"spark.driver.cores\", \"1\")\n",
    "builder.config(\"spark.executor-memory\", \"20g\")\n",
    "builder.config(\"spark.executor.cores\", \"4\")\n",
    "builder.master(\"local[*]\")\n",
    "spark = builder.getOrCreate()\n",
    "spark"
   ]
  },
  {
   "cell_type": "markdown",
   "metadata": {},
   "source": [
    "* Busca dados extraídos"
   ]
  },
  {
   "cell_type": "code",
   "execution_count": 6,
   "metadata": {},
   "outputs": [],
   "source": [
    "all_files = [f'{LANDED}{file}' for file in os.listdir(LANDED) if '.csv' in file]"
   ]
  },
  {
   "cell_type": "code",
   "execution_count": 7,
   "metadata": {},
   "outputs": [
    {
     "data": {
      "text/plain": [
       "['../landed/Ano-2015.csv',\n",
       " '../landed/Ano-2016.csv',\n",
       " '../landed/Ano-2017.csv',\n",
       " '../landed/Ano-2018.csv',\n",
       " '../landed/Ano-2019.csv']"
      ]
     },
     "execution_count": 7,
     "metadata": {},
     "output_type": "execute_result"
    }
   ],
   "source": [
    "all_files"
   ]
  },
  {
   "cell_type": "markdown",
   "metadata": {},
   "source": [
    "* Salva fontes de dados em formato Parquet"
   ]
  },
  {
   "cell_type": "code",
   "execution_count": 8,
   "metadata": {},
   "outputs": [],
   "source": [
    "for filename in all_files:\n",
    "    rdd = spark.read.csv(filename, sep=';', header=True)\n",
    "    rawname = filename.split('-')[1].split('.')[0]\n",
    "    rdd.write.parquet(RAW+'/parquet/'+rawname)"
   ]
  },
  {
   "cell_type": "code",
   "execution_count": 9,
   "metadata": {},
   "outputs": [
    {
     "name": "stdout",
     "output_type": "stream",
     "text": [
      "root\n",
      " |-- txNomeParlamentar: string (nullable = true)\n",
      " |-- ideCadastro: string (nullable = true)\n",
      " |-- nuCarteiraParlamentar: string (nullable = true)\n",
      " |-- nuLegislatura: string (nullable = true)\n",
      " |-- sgUF: string (nullable = true)\n",
      " |-- sgPartido: string (nullable = true)\n",
      " |-- codLegislatura: string (nullable = true)\n",
      " |-- numSubCota: string (nullable = true)\n",
      " |-- txtDescricao: string (nullable = true)\n",
      " |-- numEspecificacaoSubCota: string (nullable = true)\n",
      " |-- txtDescricaoEspecificacao: string (nullable = true)\n",
      " |-- txtFornecedor: string (nullable = true)\n",
      " |-- txtCNPJCPF: string (nullable = true)\n",
      " |-- txtNumero: string (nullable = true)\n",
      " |-- indTipoDocumento: string (nullable = true)\n",
      " |-- datEmissao: string (nullable = true)\n",
      " |-- vlrDocumento: string (nullable = true)\n",
      " |-- vlrGlosa: string (nullable = true)\n",
      " |-- vlrLiquido: string (nullable = true)\n",
      " |-- numMes: string (nullable = true)\n",
      " |-- numAno: string (nullable = true)\n",
      " |-- numParcela: string (nullable = true)\n",
      " |-- txtPassageiro: string (nullable = true)\n",
      " |-- txtTrecho: string (nullable = true)\n",
      " |-- numLote: string (nullable = true)\n",
      " |-- numRessarcimento: string (nullable = true)\n",
      " |-- vlrRestituicao: string (nullable = true)\n",
      " |-- nuDeputadoId: string (nullable = true)\n",
      " |-- ideDocumento: string (nullable = true)\n",
      "\n"
     ]
    }
   ],
   "source": [
    "rdd.printSchema()"
   ]
  },
  {
   "cell_type": "code",
   "execution_count": 10,
   "metadata": {},
   "outputs": [
    {
     "data": {
      "text/plain": [
       "['2015', '2016', '2017', '2018', '2019']"
      ]
     },
     "execution_count": 10,
     "metadata": {},
     "output_type": "execute_result"
    }
   ],
   "source": [
    "os.listdir(RAW+'/parquet/')"
   ]
  },
  {
   "cell_type": "code",
   "execution_count": null,
   "metadata": {},
   "outputs": [],
   "source": []
  }
 ],
 "metadata": {
  "kernelspec": {
   "display_name": "Python 3",
   "language": "python",
   "name": "python3"
  },
  "language_info": {
   "codemirror_mode": {
    "name": "ipython",
    "version": 3
   },
   "file_extension": ".py",
   "mimetype": "text/x-python",
   "name": "python",
   "nbconvert_exporter": "python",
   "pygments_lexer": "ipython3",
   "version": "3.7.3"
  }
 },
 "nbformat": 4,
 "nbformat_minor": 2
}
