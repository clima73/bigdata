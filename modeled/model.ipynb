{
 "cells": [
  {
   "cell_type": "markdown",
   "metadata": {},
   "source": [
    "# Fase 3 - Modelagem dos Dados (Modeled)"
   ]
  },
  {
   "cell_type": "markdown",
   "metadata": {},
   "source": [
    "* Importação das bibliotecas"
   ]
  },
  {
   "cell_type": "code",
   "execution_count": 1,
   "metadata": {},
   "outputs": [],
   "source": [
    "import os\n",
    "import pyspark\n",
    "from pyspark.sql import SparkSession, SQLContext\n",
    "from pyspark.sql.types import StructType, StructField,StringType, FloatType"
   ]
  },
  {
   "cell_type": "code",
   "execution_count": 2,
   "metadata": {},
   "outputs": [],
   "source": [
    "from pyspark import SparkContext, SparkConf\n",
    "from pyspark.sql.functions import create_map, struct\n",
    "from pyspark.sql import functions as F"
   ]
  },
  {
   "cell_type": "code",
   "execution_count": 3,
   "metadata": {},
   "outputs": [
    {
     "data": {
      "text/plain": [
       "[]"
      ]
     },
     "execution_count": 3,
     "metadata": {},
     "output_type": "execute_result"
    }
   ],
   "source": [
    "MODELED = '../modeled/'\n",
    "RAW = '../raw/'\n",
    "os.listdir(MODELED+'/parquet/')"
   ]
  },
  {
   "cell_type": "markdown",
   "metadata": {},
   "source": [
    "* Sessão Spark"
   ]
  },
  {
   "cell_type": "code",
   "execution_count": 4,
   "metadata": {},
   "outputs": [
    {
     "data": {
      "text/html": [
       "\n",
       "            <div>\n",
       "                <p><b>SparkSession - in-memory</b></p>\n",
       "                \n",
       "        <div>\n",
       "            <p><b>SparkContext</b></p>\n",
       "\n",
       "            <p><a href=\"http://bae77ddaaa6a:4042\">Spark UI</a></p>\n",
       "\n",
       "            <dl>\n",
       "              <dt>Version</dt>\n",
       "                <dd><code>v2.4.3</code></dd>\n",
       "              <dt>Master</dt>\n",
       "                <dd><code>local[*]</code></dd>\n",
       "              <dt>AppName</dt>\n",
       "                <dd><code>GASTOS PARLAMENTARES</code></dd>\n",
       "            </dl>\n",
       "        </div>\n",
       "        \n",
       "            </div>\n",
       "        "
      ],
      "text/plain": [
       "<pyspark.sql.session.SparkSession at 0x7f38553d3cf8>"
      ]
     },
     "execution_count": 4,
     "metadata": {},
     "output_type": "execute_result"
    }
   ],
   "source": [
    "builder = SparkSession.builder.appName(\"GASTOS PARLAMENTARES\")\n",
    "builder.config(\n",
    "    \"spark.hadoop.mapreduce.fileoutputcommitter.algorithm.version\", \"2\")\n",
    "builder.config(\"spark.speculation\", \"false\")\n",
    "builder.config(\"spark.sql.parquet.compression.codec\", \"gzip\")\n",
    "builder.config(\"spark.debug.maxToStringFields\", \"100\")\n",
    "builder.config(\"spark.driver.memory\", \"1g\")\n",
    "builder.config(\"spark.driver.cores\", \"1\")\n",
    "builder.config(\"spark.executor-memory\", \"20g\")\n",
    "builder.config(\"spark.executor.cores\", \"4\")\n",
    "\n",
    "builder.master(\"local[*]\")\n",
    "\n",
    "spark = builder.getOrCreate()\n",
    "spark\n"
   ]
  },
  {
   "cell_type": "markdown",
   "metadata": {},
   "source": [
    "* Função para conversão de valor"
   ]
  },
  {
   "cell_type": "code",
   "execution_count": 5,
   "metadata": {},
   "outputs": [],
   "source": [
    "to_value = lambda v:float(v.replace(\",\",\".\"))\n",
    "udf_to_value = F.udf(to_value, FloatType())"
   ]
  },
  {
   "cell_type": "markdown",
   "metadata": {},
   "source": [
    "* Leitura dos arquivos Parquet dos anos de gastos"
   ]
  },
  {
   "cell_type": "code",
   "execution_count": 6,
   "metadata": {},
   "outputs": [],
   "source": [
    "dfRaw = spark.read.parquet(RAW+\"/parquet/*\")"
   ]
  },
  {
   "cell_type": "code",
   "execution_count": 7,
   "metadata": {},
   "outputs": [
    {
     "data": {
      "text/plain": [
       "1558650"
      ]
     },
     "execution_count": 7,
     "metadata": {},
     "output_type": "execute_result"
    }
   ],
   "source": [
    "dfRaw.count()"
   ]
  },
  {
   "cell_type": "markdown",
   "metadata": {},
   "source": [
    "* Otimização do esquema"
   ]
  },
  {
   "cell_type": "code",
   "execution_count": 8,
   "metadata": {},
   "outputs": [],
   "source": [
    "df = dfRaw.select(dfRaw['txNomeParlamentar'].alias('parlamentar'), \\\n",
    "                  dfRaw['sgPartido'].alias('partido'), \\\n",
    "                  dfRaw['sgUF'].alias('uf'), \\\n",
    "                  dfRaw['txtDescricao'].alias('categoria'), \\\n",
    "                  dfRaw['numAno'].alias('ano'), \\\n",
    "                  dfRaw['vlrLiquido'].alias('valor'))"
   ]
  },
  {
   "cell_type": "code",
   "execution_count": 9,
   "metadata": {},
   "outputs": [
    {
     "name": "stdout",
     "output_type": "stream",
     "text": [
      "+-----------------+-------+---+--------------------+----+------+\n",
      "|      parlamentar|partido| uf|           categoria| ano| valor|\n",
      "+-----------------+-------+---+--------------------+----+------+\n",
      "|LIDERANÇA DO PSDB|   null| NA|    PASSAGENS AÉREAS|2015|2570.1|\n",
      "|LIDERANÇA DO PSDB|   null| NA|           TELEFONIA|2015|459.62|\n",
      "|LIDERANÇA DO PSDB|   null| NA|           TELEFONIA|2015|530.21|\n",
      "|LIDERANÇA DO PSDB|   null| NA|           TELEFONIA|2015|341.35|\n",
      "|LIDERANÇA DO PSDB|   null| NA|           TELEFONIA|2015|   324|\n",
      "|LIDERANÇA DO PSDB|   null| NA|COMBUSTÍVEIS E LU...|2015| 106.2|\n",
      "|LIDERANÇA DO PSDB|   null| NA|COMBUSTÍVEIS E LU...|2015| 137.2|\n",
      "|LIDERANÇA DO PSDB|   null| NA|COMBUSTÍVEIS E LU...|2015|115.88|\n",
      "|LIDERANÇA DO PSDB|   null| NA|COMBUSTÍVEIS E LU...|2015|  96.9|\n",
      "|LIDERANÇA DO PSDB|   null| NA|COMBUSTÍVEIS E LU...|2015|118.61|\n",
      "+-----------------+-------+---+--------------------+----+------+\n",
      "only showing top 10 rows\n",
      "\n"
     ]
    }
   ],
   "source": [
    "df.show(10)"
   ]
  },
  {
   "cell_type": "code",
   "execution_count": 10,
   "metadata": {},
   "outputs": [],
   "source": [
    "df2 = df.withColumn(\"valor\", udf_to_value(df[\"valor\"]))"
   ]
  },
  {
   "cell_type": "code",
   "execution_count": 11,
   "metadata": {},
   "outputs": [
    {
     "name": "stdout",
     "output_type": "stream",
     "text": [
      "root\n",
      " |-- parlamentar: string (nullable = true)\n",
      " |-- partido: string (nullable = true)\n",
      " |-- uf: string (nullable = true)\n",
      " |-- categoria: string (nullable = true)\n",
      " |-- ano: string (nullable = true)\n",
      " |-- valor: float (nullable = true)\n",
      "\n"
     ]
    }
   ],
   "source": [
    "df2.printSchema()"
   ]
  },
  {
   "cell_type": "markdown",
   "metadata": {},
   "source": [
    "* Agrupamento e sumarização das principais informações"
   ]
  },
  {
   "cell_type": "code",
   "execution_count": 12,
   "metadata": {},
   "outputs": [],
   "source": [
    "dfPq = df2.groupBy('parlamentar','partido','uf','categoria','ano').agg(F.sum('valor').alias('valor'))"
   ]
  },
  {
   "cell_type": "code",
   "execution_count": 13,
   "metadata": {},
   "outputs": [
    {
     "name": "stdout",
     "output_type": "stream",
     "text": [
      "root\n",
      " |-- parlamentar: string (nullable = true)\n",
      " |-- partido: string (nullable = true)\n",
      " |-- uf: string (nullable = true)\n",
      " |-- categoria: string (nullable = true)\n",
      " |-- ano: string (nullable = true)\n",
      " |-- valor: double (nullable = true)\n",
      "\n"
     ]
    },
    {
     "data": {
      "text/plain": [
       "32309"
      ]
     },
     "execution_count": 13,
     "metadata": {},
     "output_type": "execute_result"
    }
   ],
   "source": [
    "dfPq.printSchema()\n",
    "dfPq.count()"
   ]
  },
  {
   "cell_type": "markdown",
   "metadata": {},
   "source": [
    "* Salvamento de um novo arquivo Parquet com o agrupamento"
   ]
  },
  {
   "cell_type": "code",
   "execution_count": 14,
   "metadata": {},
   "outputs": [],
   "source": [
    "dfPq.write.parquet(MODELED+'/parquet/sumario/')"
   ]
  },
  {
   "cell_type": "code",
   "execution_count": 15,
   "metadata": {},
   "outputs": [
    {
     "data": {
      "text/plain": [
       "['sumario']"
      ]
     },
     "execution_count": 15,
     "metadata": {},
     "output_type": "execute_result"
    }
   ],
   "source": [
    "os.listdir(MODELED+'/parquet/')"
   ]
  },
  {
   "cell_type": "code",
   "execution_count": null,
   "metadata": {},
   "outputs": [],
   "source": []
  }
 ],
 "metadata": {
  "kernelspec": {
   "display_name": "Python 3",
   "language": "python",
   "name": "python3"
  },
  "language_info": {
   "codemirror_mode": {
    "name": "ipython",
    "version": 3
   },
   "file_extension": ".py",
   "mimetype": "text/x-python",
   "name": "python",
   "nbconvert_exporter": "python",
   "pygments_lexer": "ipython3",
   "version": "3.7.3"
  }
 },
 "nbformat": 4,
 "nbformat_minor": 2
}
